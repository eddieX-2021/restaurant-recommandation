{
 "cells": [
  {
   "cell_type": "code",
   "execution_count": 1,
   "metadata": {},
   "outputs": [],
   "source": [
    "import pandas as pd\n",
    "import numpy as np\n",
    "from sklearn.cluster import KMeans\n",
    "import matplotlib.pyplot as plt\n",
    "import seaborn as sns\n",
    "%matplotlib inline"
   ]
  },
  {
   "cell_type": "code",
   "execution_count": 2,
   "metadata": {},
   "outputs": [
    {
     "data": {
      "text/html": [
       "<div>\n",
       "<style scoped>\n",
       "    .dataframe tbody tr th:only-of-type {\n",
       "        vertical-align: middle;\n",
       "    }\n",
       "\n",
       "    .dataframe tbody tr th {\n",
       "        vertical-align: top;\n",
       "    }\n",
       "\n",
       "    .dataframe thead th {\n",
       "        text-align: right;\n",
       "    }\n",
       "</style>\n",
       "<table border=\"1\" class=\"dataframe\">\n",
       "  <thead>\n",
       "    <tr style=\"text-align: right;\">\n",
       "      <th></th>\n",
       "      <th>name</th>\n",
       "      <th>rating</th>\n",
       "      <th>lat</th>\n",
       "      <th>lng</th>\n",
       "      <th>vicinity</th>\n",
       "      <th>price_level</th>\n",
       "      <th>types</th>\n",
       "      <th>user_ratings_total</th>\n",
       "    </tr>\n",
       "  </thead>\n",
       "  <tbody>\n",
       "    <tr>\n",
       "      <th>0</th>\n",
       "      <td>Jersey Mike's Subs</td>\n",
       "      <td>4.4</td>\n",
       "      <td>38.010347</td>\n",
       "      <td>-78.498799</td>\n",
       "      <td>265 Merchant Walk Avenue Suite 1004, Charlotte...</td>\n",
       "      <td>1.0</td>\n",
       "      <td>meal_takeaway, restaurant, food, point_of_inte...</td>\n",
       "      <td>683.0</td>\n",
       "    </tr>\n",
       "    <tr>\n",
       "      <th>1</th>\n",
       "      <td>Panera Bread</td>\n",
       "      <td>3.7</td>\n",
       "      <td>38.011409</td>\n",
       "      <td>-78.498387</td>\n",
       "      <td>405 Merchant Walk Square Bldg 1800, Charlottes...</td>\n",
       "      <td>2.0</td>\n",
       "      <td>cafe, bakery, meal_takeaway, restaurant, food,...</td>\n",
       "      <td>453.0</td>\n",
       "    </tr>\n",
       "    <tr>\n",
       "      <th>2</th>\n",
       "      <td>Timberwood Tap House</td>\n",
       "      <td>4.2</td>\n",
       "      <td>38.010356</td>\n",
       "      <td>-78.499736</td>\n",
       "      <td>245 Merchant Walk Avenue Unit 100, Charlottesv...</td>\n",
       "      <td>2.0</td>\n",
       "      <td>restaurant, food, point_of_interest, establish...</td>\n",
       "      <td>1359.0</td>\n",
       "    </tr>\n",
       "    <tr>\n",
       "      <th>3</th>\n",
       "      <td>Alamo Drafthouse Cinema Charlottesville</td>\n",
       "      <td>4.5</td>\n",
       "      <td>38.011919</td>\n",
       "      <td>-78.499495</td>\n",
       "      <td>375 Merchant Walk Square, Charlottesville</td>\n",
       "      <td>NaN</td>\n",
       "      <td>movie_theater, bar, restaurant, food, point_of...</td>\n",
       "      <td>2317.0</td>\n",
       "    </tr>\n",
       "    <tr>\n",
       "      <th>4</th>\n",
       "      <td>Subway</td>\n",
       "      <td>3.8</td>\n",
       "      <td>38.012863</td>\n",
       "      <td>-78.503421</td>\n",
       "      <td>1141 5th Street Ext, Unit 1141, Charlottesville</td>\n",
       "      <td>1.0</td>\n",
       "      <td>meal_takeaway, restaurant, food, point_of_inte...</td>\n",
       "      <td>86.0</td>\n",
       "    </tr>\n",
       "  </tbody>\n",
       "</table>\n",
       "</div>"
      ],
      "text/plain": [
       "                                      name  rating        lat        lng  \\\n",
       "0                       Jersey Mike's Subs     4.4  38.010347 -78.498799   \n",
       "1                             Panera Bread     3.7  38.011409 -78.498387   \n",
       "2                     Timberwood Tap House     4.2  38.010356 -78.499736   \n",
       "3  Alamo Drafthouse Cinema Charlottesville     4.5  38.011919 -78.499495   \n",
       "4                                   Subway     3.8  38.012863 -78.503421   \n",
       "\n",
       "                                            vicinity  price_level  \\\n",
       "0  265 Merchant Walk Avenue Suite 1004, Charlotte...          1.0   \n",
       "1  405 Merchant Walk Square Bldg 1800, Charlottes...          2.0   \n",
       "2  245 Merchant Walk Avenue Unit 100, Charlottesv...          2.0   \n",
       "3          375 Merchant Walk Square, Charlottesville          NaN   \n",
       "4    1141 5th Street Ext, Unit 1141, Charlottesville          1.0   \n",
       "\n",
       "                                               types  user_ratings_total  \n",
       "0  meal_takeaway, restaurant, food, point_of_inte...               683.0  \n",
       "1  cafe, bakery, meal_takeaway, restaurant, food,...               453.0  \n",
       "2  restaurant, food, point_of_interest, establish...              1359.0  \n",
       "3  movie_theater, bar, restaurant, food, point_of...              2317.0  \n",
       "4  meal_takeaway, restaurant, food, point_of_inte...                86.0  "
      ]
     },
     "execution_count": 2,
     "metadata": {},
     "output_type": "execute_result"
    }
   ],
   "source": [
    "#load the data set\n",
    "data_path = '../restaurant_data/restaurants_data.csv'\n",
    "df = pd.read_csv(data_path)\n",
    "df.head()"
   ]
  },
  {
   "cell_type": "code",
   "execution_count": 3,
   "metadata": {},
   "outputs": [
    {
     "data": {
      "text/plain": [
       "name                   0\n",
       "rating                 8\n",
       "lat                    0\n",
       "lng                    0\n",
       "vicinity               0\n",
       "price_level           86\n",
       "types                  0\n",
       "user_ratings_total     8\n",
       "dtype: int64"
      ]
     },
     "execution_count": 3,
     "metadata": {},
     "output_type": "execute_result"
    }
   ],
   "source": [
    "## process the data\n",
    "df.isnull().sum()"
   ]
  },
  {
   "cell_type": "code",
   "execution_count": 4,
   "metadata": {},
   "outputs": [
    {
     "name": "stdout",
     "output_type": "stream",
     "text": [
      "<class 'pandas.core.frame.DataFrame'>\n",
      "RangeIndex: 20 entries, 0 to 19\n",
      "Data columns (total 7 columns):\n",
      " #   Column       Non-Null Count  Dtype  \n",
      "---  ------       --------------  -----  \n",
      " 0   name         20 non-null     object \n",
      " 1   rating       20 non-null     float64\n",
      " 2   lat          20 non-null     float64\n",
      " 3   lng          20 non-null     float64\n",
      " 4   vicinity     20 non-null     object \n",
      " 5   price_level  19 non-null     float64\n",
      " 6   types        20 non-null     object \n",
      "dtypes: float64(4), object(3)\n",
      "memory usage: 1.2+ KB\n"
     ]
    }
   ],
   "source": [
    "df.info()"
   ]
  },
  {
   "cell_type": "code",
   "execution_count": 5,
   "metadata": {},
   "outputs": [
    {
     "data": {
      "text/plain": [
       "Index(['name', 'rating', 'lat', 'lng', 'vicinity', 'price_level', 'types',\n",
       "       'user_ratings_total'],\n",
       "      dtype='object')"
      ]
     },
     "execution_count": 5,
     "metadata": {},
     "output_type": "execute_result"
    }
   ],
   "source": [
    "df.columns"
   ]
  },
  {
   "cell_type": "code",
   "execution_count": 7,
   "metadata": {},
   "outputs": [
    {
     "data": {
      "text/plain": [
       "Index(['name', 'rating', 'lat', 'lng', 'vicinity', 'price_level', 'types',\n",
       "       'user_ratings_total'],\n",
       "      dtype='object')"
      ]
     },
     "execution_count": 7,
     "metadata": {},
     "output_type": "execute_result"
    }
   ],
   "source": [
    "df.columns=df.columns.str.strip()\n",
    "df.columns"
   ]
  },
  {
   "cell_type": "code",
   "execution_count": 10,
   "metadata": {},
   "outputs": [
    {
     "data": {
      "text/html": [
       "<div>\n",
       "<style scoped>\n",
       "    .dataframe tbody tr th:only-of-type {\n",
       "        vertical-align: middle;\n",
       "    }\n",
       "\n",
       "    .dataframe tbody tr th {\n",
       "        vertical-align: top;\n",
       "    }\n",
       "\n",
       "    .dataframe thead th {\n",
       "        text-align: right;\n",
       "    }\n",
       "</style>\n",
       "<table border=\"1\" class=\"dataframe\">\n",
       "  <thead>\n",
       "    <tr style=\"text-align: right;\">\n",
       "      <th></th>\n",
       "      <th>name</th>\n",
       "      <th>types</th>\n",
       "    </tr>\n",
       "  </thead>\n",
       "  <tbody>\n",
       "    <tr>\n",
       "      <th>0</th>\n",
       "      <td>Jersey Mike's Subs</td>\n",
       "      <td>meal_takeaway, restaurant, food, point_of_inte...</td>\n",
       "    </tr>\n",
       "    <tr>\n",
       "      <th>1</th>\n",
       "      <td>Panera Bread</td>\n",
       "      <td>cafe, bakery, meal_takeaway, restaurant, food,...</td>\n",
       "    </tr>\n",
       "    <tr>\n",
       "      <th>2</th>\n",
       "      <td>Timberwood Tap House</td>\n",
       "      <td>restaurant, food, point_of_interest, establish...</td>\n",
       "    </tr>\n",
       "    <tr>\n",
       "      <th>3</th>\n",
       "      <td>Alamo Drafthouse Cinema Charlottesville</td>\n",
       "      <td>movie_theater, bar, restaurant, food, point_of...</td>\n",
       "    </tr>\n",
       "    <tr>\n",
       "      <th>4</th>\n",
       "      <td>Subway</td>\n",
       "      <td>meal_takeaway, restaurant, food, point_of_inte...</td>\n",
       "    </tr>\n",
       "  </tbody>\n",
       "</table>\n",
       "</div>"
      ],
      "text/plain": [
       "                                      name  \\\n",
       "0                       Jersey Mike's Subs   \n",
       "1                             Panera Bread   \n",
       "2                     Timberwood Tap House   \n",
       "3  Alamo Drafthouse Cinema Charlottesville   \n",
       "4                                   Subway   \n",
       "\n",
       "                                               types  \n",
       "0  meal_takeaway, restaurant, food, point_of_inte...  \n",
       "1  cafe, bakery, meal_takeaway, restaurant, food,...  \n",
       "2  restaurant, food, point_of_interest, establish...  \n",
       "3  movie_theater, bar, restaurant, food, point_of...  \n",
       "4  meal_takeaway, restaurant, food, point_of_inte...  "
      ]
     },
     "execution_count": 10,
     "metadata": {},
     "output_type": "execute_result"
    }
   ],
   "source": [
    "df_cleaned = df[['name', 'types']]\n",
    "df_cleaned.head()"
   ]
  },
  {
   "cell_type": "code",
   "execution_count": 11,
   "metadata": {},
   "outputs": [],
   "source": [
    "df_cleaned.to_csv('charlottesville_restaurant_cleaned_dataset.csv',index=False)"
   ]
  },
  {
   "cell_type": "code",
   "execution_count": null,
   "metadata": {},
   "outputs": [],
   "source": []
  },
  {
   "cell_type": "code",
   "execution_count": null,
   "metadata": {},
   "outputs": [],
   "source": []
  },
  {
   "cell_type": "code",
   "execution_count": null,
   "metadata": {},
   "outputs": [],
   "source": []
  },
  {
   "cell_type": "code",
   "execution_count": null,
   "metadata": {},
   "outputs": [],
   "source": []
  },
  {
   "cell_type": "code",
   "execution_count": null,
   "metadata": {},
   "outputs": [],
   "source": []
  },
  {
   "cell_type": "code",
   "execution_count": null,
   "metadata": {},
   "outputs": [],
   "source": []
  }
 ],
 "metadata": {
  "kernelspec": {
   "display_name": "base",
   "language": "python",
   "name": "python3"
  },
  "language_info": {
   "codemirror_mode": {
    "name": "ipython",
    "version": 3
   },
   "file_extension": ".py",
   "mimetype": "text/x-python",
   "name": "python",
   "nbconvert_exporter": "python",
   "pygments_lexer": "ipython3",
   "version": "3.12.4"
  }
 },
 "nbformat": 4,
 "nbformat_minor": 4
}
